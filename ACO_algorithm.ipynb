{
 "cells": [
  {
   "attachments": {},
   "cell_type": "markdown",
   "metadata": {},
   "source": [
    "# ADEME VRP\n",
    "\n",
    "Pour résoudre la problématique du projet ADEME la contrainte sélectionnée est celle des k camions, nous retrouverons le code pour notre solution ci-dessous"
   ]
  },
  {
   "cell_type": "code",
   "execution_count": 10,
   "metadata": {},
   "outputs": [],
   "source": [
    "import numpy as np\n",
    "n_cities = 1500 # Number of cities\n",
    "cities = np.random.randint(1, 101, size=(n_cities, n_cities)) # Initizaliting adjcency matrix with weight from 1 to 100 and n cities"
   ]
  },
  {
   "cell_type": "code",
   "execution_count": 11,
   "metadata": {},
   "outputs": [
    {
     "name": "stdout",
     "output_type": "stream",
     "text": [
      "Truck 1: [0, 172, 1470, 1354, 1376, 65, 873, 588, 1021, 1194, 901, 872, 10, 1324, 639, 795, 700, 1008, 1103, 107, 140, 1254, 625, 989, 977, 1241, 961, 392, 1358, 969, 1317, 366, 531, 45, 326, 1039, 718, 581, 800, 622, 1294, 1288, 821, 1447, 895, 1017, 1290, 801, 914, 1344, 82, 181, 377, 1397, 1152, 726, 810, 1386, 936, 638, 560, 704, 1289, 1461, 1000, 750, 869, 619, 852, 1031, 694, 882, 42, 544, 74, 1433, 1454, 836, 1426, 922, 215, 1171, 1380, 635, 942, 1418, 915, 1286, 1006, 382, 57, 500, 1345, 1499, 1128, 118, 1028, 792, 881, 1478, 1269, 1079, 1452, 986, 199, 251, 736, 537, 461, 948, 438, 711, 1274, 12, 1351, 375, 957, 542, 815, 474, 764, 1217, 870, 498, 1117, 1255, 233, 854, 841, 1275, 1170, 379, 1077, 996, 68, 442, 991, 830, 502, 566, 762, 771, 37, 1492, 1377, 1144, 93, 180, 994, 1173, 763, 1272, 1316, 315, 360, 232, 856, 781, 666, 557, 1394, 982, 1127, 1084, 1003, 1331, 1137, 1392, 335, 744, 69, 51, 673, 385, 1281, 157, 1489, 1004, 772, 769, 1010, 263, 1297, 238, 311, 1095, 809, 878, 593, 574, 418, 939, 128, 862, 524, 1063, 411, 1477, 3, 1256, 691, 1325, 211, 545, 81, 1222, 512, 621, 835, 367, 1009, 614, 597, 690, 430, 416, 760, 1440, 1179, 431, 1234, 154, 739, 516, 599, 1482, 1319, 754, 88, 689, 565, 930, 1352, 1067, 1282, 127, 95, 688, 383, 314, 195, 1220, 534, 672, 879, 1486, 1413, 1268, 1075, 1270, 651, 1494, 1262, 867, 1355, 933, 481, 1030, 1278, 1436, 551, 659, 832, 662, 538, 585, 1169, 1228, 812, 1374, 32, 1312, 630, 777, 216, 99, 40, 1381, 428, 503, 1382, 951, 855, 231, 1334, 448, 343, 1216, 79, 213, 997, 569, 349, 350, 204, 594, 400, 401, 1236, 123, 443, 161, 709, 944, 248, 242, 148, 1218, 139, 312, 432, 820, 409, 226, 1191, 1326, 13, 417, 277, 1459, 352, 434, 47, 247, 604, 187, 629, 284, 193, 617, 696, 1043, 823, 774, 699, 414, 590, 1445, 145, 114, 429, 706, 289, 454, 376, 255, 595, 210, 909, 309, 971, 53, 26, 1182, 460, 103, 137, 722, 1485, 842, 1208, 562, 1249, 1431, 802, 1349, 373, 486, 1034, 633, 1242, 871, 1469, 1230, 206, 701, 1472, 1007, 1069, 946, 362, 19, 260, 223, 1497, 583, 1273, 655, 38, 200, 1035, 857, 1406, 70, 866, 361, 419, 981, 993, 681, 844, 386, 8, 714, 356, 1323, 292, 166, 789, 1307, 1181, 555, 1183, 664, 1287, 158, 592, 250, 1336, 1186, 917, 1391, 321, 1422, 608, 1314, 303, 1056, 380, 1456, 838, 141, 1313, 331, 850, 87, 1125, 1207, 684, 907, 306, 300, 162, 316, 740, 645, 1359, 1393, 1155, 847, 983, 1189, 410, 1068, 577, 1293, 712, 631, 580, 728, 511, 697, 1036, 743, 391, 1444, 1093, 1490, 1443, 29, 898, 341, 733, 435, 1364, 144, 1060, 757, 1271, 1090, 1446, 1098, 483, 237, 1019, 1114, 620, 1437, 1140, 1187, 1180, 827, 615, 1033, 274, 1085, 1467, 330, 1366, 642, 586, 0] 551km\n",
      "Truck 2: [0, 1416, 398, 894, 601, 9, 282, 611, 131, 101, 266, 1042, 756, 372, 254, 1147, 1214, 495, 1038, 201, 501, 893, 288, 188, 58, 748, 488, 868, 22, 229, 775, 1162, 1299, 451, 912, 322, 851, 624, 1018, 1046, 637, 860, 890, 1190, 797, 313, 209, 992, 829, 1027, 1122, 1304, 1239, 5, 669, 365, 1012, 738, 121, 390, 686, 522, 320, 687, 444, 519, 571, 499, 892, 198, 185, 453, 80, 378, 605, 221, 1308, 1062, 1011, 1407, 510, 56, 1305, 1409, 130, 1197, 1055, 554, 1400, 1199, 1320, 721, 799, 1083, 1339, 1414, 1251, 439, 347, 426, 163, 146, 1227, 663, 39, 786, 905, 1099, 1408, 919, 1040, 1473, 1361, 1475, 649, 31, 279, 397, 1123, 556, 276, 194, 1002, 1160, 732, 1439, 508, 931, 1415, 1283, 218, 967, 1015, 965, 24, 217, 470, 160, 14, 889, 323, 1195, 880, 828, 447, 1058, 227, 120, 661, 1375, 888, 1106, 473, 92, 265, 1350, 445, 1105, 1481, 342, 345, 926, 155, 494, 528, 224, 77, 117, 612, 564, 1101, 1092, 1139, 573, 845, 970, 202, 610, 1205, 34, 1240, 657, 436, 710, 459, 632, 1088, 515, 959, 1020, 1119, 106, 885, 48, 864, 782, 220, 456, 54, 105, 943, 18, 539, 644, 1091, 693, 153, 302, 793, 334, 1232, 705, 1387, 753, 1265, 1280, 846, 804, 1064, 1277, 476, 129, 1049, 496, 1291, 384, 138, 173, 422, 1341, 1263, 1124, 351, 143, 1395, 817, 91, 950, 1226, 1072, 450, 1495, 1462, 568, 55, 354, 1141, 505, 695, 86, 1362, 636, 504, 954, 1121, 1158, 1145, 339, 381, 355, 125, 1167, 730, 883, 1153, 896, 623, 1237, 791, 23, 968, 290, 616, 667, 806, 272, 115, 1378, 626, 264, 1080, 747, 818, 780, 552, 1311, 4, 149, 71, 783, 469, 692, 1390, 796, 877, 1309, 35, 976, 1053, 674, 1178, 549, 647, 402, 520, 1138, 225, 182, 596, 550, 455, 507, 805, 627, 100, 1233, 1047, 1211, 650, 761, 6, 891, 1210, 136, 952, 328, 1498, 412, 1363, 521, 1434, 465, 1328, 1285, 518, 876, 370, 189, 1116, 1066, 388, 987, 527, 174, 479, 874, 963, 798, 466, 420, 1202, 990, 1231, 493, 1130, 346, 50, 83, 407, 839, 1061, 203, 1059, 1037, 808, 598, 467, 169, 298, 724, 904, 1276, 1247, 307, 104, 918, 246, 214, 11, 212, 1054, 927, 208, 578, 66, 1070, 719, 126, 20, 609, 1267, 685, 1385, 64, 1412, 822, 921, 1118, 301, 1023, 1172, 679, 1014, 15, 660, 1384, 205, 1156, 440, 492, 286, 291, 1488, 84, 36, 953, 526, 336, 1423, 269, 1483, 332, 923, 613, 1432, 1252, 403, 768, 1041, 239, 1419, 1302, 1161, 816, 1026, 1120, 579, 1315, 358, 1496, 1458, 863, 63, 1487, 947, 643, 273, 755, 337, 513, 607, 935, 1238, 299, 1209, 197, 1051, 964, 1108, 1250, 900, 108, 707, 1201, 268, 179, 925, 746, 916, 482, 824, 147, 1479, 228, 1373, 814, 61, 1342, 886, 1203, 1261, 43, 884, 458, 708, 78, 1013, 1441, 831, 1248, 1148, 60, 446, 1131, 368, 975, 861, 837, 958, 765, 653, 0] 555km\n",
      "Truck 3: [0, 1476, 980, 1295, 1279, 1109, 979, 858, 949, 1404, 408, 1246, 243, 1076, 112, 853, 344, 423, 509, 413, 76, 1151, 1338, 1329, 1071, 75, 184, 995, 1073, 393, 1142, 1001, 177, 190, 1225, 294, 1235, 135, 634, 723, 67, 966, 278, 1455, 98, 491, 1480, 826, 271, 559, 1303, 1318, 89, 1258, 1332, 833, 1082, 1045, 1223, 941, 1396, 1471, 191, 164, 1168, 357, 1398, 471, 1081, 421, 116, 790, 485, 794, 30, 85, 1347, 1372, 887, 1367, 1065, 261, 734, 1369, 725, 267, 241, 132, 640, 606, 252, 333, 1284, 1204, 1448, 325, 807, 1221, 1417, 404, 1421, 875, 587, 90, 960, 1442, 102, 1212, 293, 727, 1159, 133, 903, 94, 778, 1370, 178, 41, 425, 920, 758, 62, 475, 1032, 472, 910, 1402, 1024, 517, 825, 1450, 658, 1356, 1107, 908, 962, 287, 1193, 1306, 1491, 1112, 1410, 1403, 253, 207, 1300, 570, 1321, 52, 572, 167, 353, 628, 563, 1266, 1389, 308, 767, 275, 972, 480, 1360, 1146, 553, 899, 484, 859, 575, 338, 1424, 33, 1301, 543, 1353, 73, 600, 1200, 677, 257, 1453, 1365, 546, 1428, 865, 235, 1399, 1213, 363, 359, 1292, 1196, 46, 843, 906, 937, 984, 59, 1111, 1493, 1165, 1164, 1074, 752, 449, 72, 1174, 1449, 1215, 1177, 1259, 717, 974, 813, 1029, 1094, 1379, 124, 1368, 452, 533, 770, 547, 1097, 1371, 406, 295, 988, 535, 589, 1176, 1115, 938, 283, 340, 1466, 766, 536, 1298, 234, 1465, 1048, 1429, 713, 656, 1383, 1175, 297, 737, 159, 245, 462, 1132, 897, 324, 394, 168, 2, 934, 670, 1192, 490, 109, 262, 788, 219, 111, 1457, 999, 676, 716, 803, 1451, 1333, 259, 702, 506, 1136, 296, 603, 1335, 683, 779, 928, 1460, 156, 1264, 1078, 249, 1435, 230, 464, 1401, 468, 576, 558, 415, 1468, 654, 244, 998, 477, 849, 1100, 1188, 751, 729, 955, 487, 1133, 541, 405, 1474, 364, 731, 1126, 1025, 945, 441, 548, 437, 902, 745, 1296, 222, 1005, 561, 698, 427, 1157, 1229, 956, 1463, 113, 1150, 304, 96, 1219, 1143, 1052, 258, 1245, 1184, 1340, 387, 489, 1057, 44, 776, 389, 749, 310, 985, 21, 119, 134, 305, 1198, 1089, 110, 17, 150, 924, 1257, 742, 1260, 1330, 171, 1224, 327, 285, 911, 834, 1425, 1420, 840, 591, 478, 1163, 1357, 1087, 735, 122, 1348, 152, 186, 1134, 741, 811, 978, 514, 1388, 773, 1185, 715, 1, 256, 525, 329, 641, 1129, 1050, 529, 151, 240, 1430, 646, 1427, 1096, 497, 787, 1438, 1149, 648, 318, 665, 433, 720, 348, 165, 280, 848, 196, 1110, 682, 1411, 457, 49, 1464, 1154, 1044, 932, 1113, 424, 1343, 1016, 1337, 1243, 28, 270, 369, 540, 176, 1102, 618, 602, 784, 940, 532, 929, 1327, 1405, 523, 1322, 1135, 652, 680, 183, 1086, 1253, 395, 785, 582, 1346, 703, 1166, 399, 567, 374, 671, 1022, 7, 678, 759, 25, 97, 170, 675, 27, 1104, 913, 1206, 142, 175, 236, 317, 530, 819, 463, 668, 319, 16, 281, 396, 1310, 973, 1484, 1244, 584, 371, 192, 0] 1039km\n",
      "total distance: 2145\n"
     ]
    }
   ],
   "source": [
    "def ant_colony_optimization_vrp(cities, n_ants, n_iterations, alpha, beta, evaporation_rate, Q, n_trucks):\n",
    "    '''\n",
    "    ACO for Vehicle Routing Problem.\n",
    "    Parameters:\n",
    "        cities: 2D array of distances between cities (adjacency matrix)\n",
    "        n_ants: Number of ants running per iteration\n",
    "        n_iterations: Number of iterations\n",
    "        alpha: Importance of pheromone\n",
    "        beta: Importance of distance\n",
    "        evaporation_rate: Rate at which pheromone evaporates\n",
    "        Q: Constant for pheromone update / Amount of pheromones ants release\n",
    "        n_trucks: Number of trucks available\n",
    "    Returns:\n",
    "        best_paths: List of best paths found by the algorithm\n",
    "        best_total_length: Total length of the best paths\n",
    "\n",
    "    adapted the source code for our purpose (no coordinate/matplotlib in our version and added truck constraint)\n",
    "    source: https://induraj2020.medium.com/implementation-of-ant-colony-optimization-using-python-solve-traveling-salesman-problem-9c14d3114475\n",
    "\n",
    "    '''\n",
    "    pheromone = np.ones((n_cities, n_cities)) # Initizaliting pheromone matrix with 1s\n",
    "    best_paths = None \n",
    "    best_total_length = np.inf\n",
    "    max_cities_per_truck = n_cities // n_trucks  # Maximum cities each truck can visit\n",
    "\n",
    "    for iteration in range(n_iterations):\n",
    "        all_paths = []\n",
    "        all_total_lengths = []\n",
    "\n",
    "        for ant in range(n_ants):\n",
    "            paths = []\n",
    "            total_length = 0\n",
    "            visited_global = np.zeros(n_cities, dtype=bool)  # Global visited array for all trucks in this iteration (filled with False)\n",
    "\n",
    "            for truck in range(n_trucks):\n",
    "                visited = visited_global.copy()  # Using the global visited array for each truck\n",
    "                current_point = 0  # Start from the depot\n",
    "                # start from depot and visit max_cities_per_truck cities\n",
    "                visited[current_point] = True \n",
    "                path = [current_point]\n",
    "                path_length = 0\n",
    "                cities_visited = 0  # Count of visited cities\n",
    "\n",
    "                # Loop through not visited cities\n",
    "                while np.any(np.logical_not(visited)) and cities_visited < max_cities_per_truck :\n",
    "                    unvisited = np.where(np.logical_not(visited))[0] # getting the next unvisited cities\n",
    "                    # calculating the probabilities of the next cities\n",
    "                    probabilities = pheromone[current_point][unvisited]**alpha / (cities[current_point][unvisited])**beta\n",
    "                    # if all the probabilities are 0, set them to 1/len(probabilities) to avoid division by 0\n",
    "                    if np.sum(probabilities) == 0:\n",
    "                        probabilities = np.ones_like(probabilities) / len(probabilities)\n",
    "                    else:\n",
    "                        probabilities /= np.sum(probabilities) # normalizing the probabilities\n",
    "\n",
    "                    next_point = np.random.choice(unvisited, p=probabilities) # choosing the next city based on the probabilities\n",
    "                    path.append(next_point)\n",
    "                    path_length += cities[current_point][next_point]\n",
    "                    visited[next_point] = True\n",
    "                    visited_global[next_point] = True  # Mark city as visited in the global array\n",
    "                    current_point = next_point\n",
    "                    cities_visited += 1  # Increase the count of visited cities\n",
    "\n",
    "                path_length += cities[path[-1]][0] # adding the distance from the last city to the depot\n",
    "                path.append(0) # adding the depot to the path to complete the cycle\n",
    "                paths.append(path)\n",
    "                total_length += path_length\n",
    "\n",
    "            all_paths.append(paths)\n",
    "            all_total_lengths.append(total_length)\n",
    "\n",
    "            if total_length < best_total_length:\n",
    "                best_paths = paths\n",
    "                best_total_length = total_length\n",
    "\n",
    "        pheromone *= evaporation_rate # Evaporate pheromone\n",
    "\n",
    "        for paths, total_length in zip(all_paths, all_total_lengths):\n",
    "            for path in paths:\n",
    "                pheromone[path[:-1], path[1:]] += Q / total_length # Update pheromone\n",
    "                pheromone[path[-1], path[0]] += Q / total_length # Update pheromone\n",
    "\n",
    "    return best_paths, best_total_length # Return the best paths and the total length of the best paths\n",
    "# adjust the parameters to get the best result (add ants/iterations for precision (but slower) and increase alpha/beta for exploration)\n",
    "best_paths, best_total_length = ant_colony_optimization_vrp(cities, n_ants=10, n_iterations=40, alpha=1, beta=2, evaporation_rate=0.4, Q=100, n_trucks=3)\n",
    "# showing the best path and distance for each truck\n",
    "total_dist = 0\n",
    "for i, path in enumerate(best_paths): # Loop through the best paths\n",
    "    path_distance = 0\n",
    "    for j in range(len(path) - 1):\n",
    "        distance = cities[path[j]][path[j+1]]\n",
    "        path_distance += distance\n",
    "        total_dist+= distance\n",
    "    print(f\"Truck {i+1}: {path} {path_distance}km\")\n",
    "print(f\"total distance: {total_dist}\")\n"
   ]
  }
 ],
 "metadata": {
  "interpreter": {
   "hash": "db976db827db0eae9b5d6f36130ee2a58388d42ffc430dde9b54af37dbc4c738"
  },
  "kernelspec": {
   "display_name": "Python 3.10.9 64-bit",
   "language": "python",
   "name": "python3"
  },
  "language_info": {
   "codemirror_mode": {
    "name": "ipython",
    "version": 3
   },
   "file_extension": ".py",
   "mimetype": "text/x-python",
   "name": "python",
   "nbconvert_exporter": "python",
   "pygments_lexer": "ipython3",
   "version": "3.10.8"
  },
  "orig_nbformat": 4
 },
 "nbformat": 4,
 "nbformat_minor": 2
}
