{
 "cells": [
  {
   "attachments": {},
   "cell_type": "markdown",
   "metadata": {},
   "source": [
    "# Livrable Modélisation\n",
    "\n",
    "## Introduction\n",
    "\n",
    "Dans le cadre de notre projet visant à optimiser la gestion de tournées de livraison, nous avons réalisé une modélisation formelle du problème. Cette modélisation nous permettra de mieux comprendre les contraintes et les objectifs à optimiser, ainsi que d'évaluer la complexité du problème.\n",
    "\n",
    "## Description du problème\n",
    "\n",
    "Le problème consiste à calculer une tournée sur un réseau routier reliant un sous-ensemble de villes, en minimisant la durée totale de la tournée. Le réseau routier est représenté par une matrice de distances entre les villes.\n",
    "\n",
    "## Contraintes de base\n",
    "\n",
    "* Chaque tournée doit commencer et se terminer au même point de départ, généralement le dépôt des marchandises.\n",
    "* Chaque ville doit être visitée une seule fois au cours de la tournée.\n",
    "* Un nombre fixe de k camions est disponible pour effectuer les livraisons.\n",
    "* Instance de taille importante (plusieurs milliers de villes)\n",
    "\n",
    "## Modélisation formelle\n",
    "\n",
    "Pour représenter le problème, nous utilisons les notations suivantes :\n",
    "\n",
    "* n_cities : le nombre total de villes dans le problème.\n",
    "* cities : une matrice de distances représentant le réseau routier.\n",
    "* n_ants : le nombre de fourmis (agents) utilisées dans l'algorithme de colonie de fourmis.\n",
    "* n_iterations : le nombre d'itérations effectuées par l'algorithme.\n",
    "* alpha, beta : les paramètres qui influencent l'importance relative de la phéromone et de la distance dans le choix du prochain point à visiter.\n",
    "* evaporation_rate : le taux d'évaporation de la phéromone sur les arêtes du réseau routier.\n",
    "* Q : la quantité de phéromone déposée par les fourmis lors de la construction des tournées.\n",
    "* n_trucks : le nombre de camions disponibles pour effectuer les livraisons.\n",
    "\n",
    "## Algorithme des fourmis\n",
    "\n",
    "L'algorithme de colonie de fourmis est une métaheuristique qui simule le comportement des fourmis lorsqu'elles cherchent des ressources dans leur environnement. Voici les principales étapes de l'algorithme :\n",
    "\n",
    "1. Initialisation : Chaque fourmi est placée au point de départ (dépôt) et les phéromones sur toutes les arêtes sont initialisées à une valeur constante.\n",
    "2. Construction des tournées : Chaque fourmi choisit itérativement le prochain point à visiter en utilisant une heuristique basée sur la phéromone et la distance. Une heuristique couramment utilisée est l'heuristique de sélection proportionnelle à la quantité de phéromone déposée, c'est-à-dire que la probabilité de choisir une arête est proportionnelle à la quantité de phéromone déposée sur cette arête. Une autre heuristique consiste à choisir une arête en inversant la distance entre les villes (1/distance).\n",
    "3. Mise à jour des phéromones : Après que toutes les fourmis ont construit leur tournée, les phéromones sur les arêtes sont mises à jour en fonction de la quantité de phéromone déposée par les fourmis.\n",
    "4. Évaporation des phéromones : Les phéromones sur toutes les arêtes sont évaporées pour éviter une convergence prématurée vers une solution sous-optimale.\n",
    "5. Répéter les étapes 2 à 4 jusqu'à ce qu'un critère d'arrêt soit atteint (par exemple, un nombre fixe d'itérations).\n",
    "\n",
    "## Équations mathématiques\n",
    "\n",
    "La probabilité de choisir une arête (i, j) pour la prochaine visite, par la fourmi k à l'étape t, peut être calculée en utilisant les équations suivantes :\n",
    "\n",
    "$$p_{ij}^k(t) = \\frac{{\\tau_{ij}^\\alpha \\cdot \\eta_{ij}^\\beta}}{{\\sum\\limits_{l \\in J_k} (\\tau_{il}^\\alpha \\cdot \\eta_{il}^\\beta)}}$$\n",
    "Où :\n",
    "* $p_{ij}^k(t)$ est la probabilité de choisir l'arête (i, j) par la fourmi k à l'étape t.\n",
    "* $\\tau_{ij}$ est la quantité de phéromone sur l'arête (i, j).\n",
    "* $\\eta_{ij}$ est l'heuristique inverse de la distance entre les villes i et j.\n",
    "* $J_k$ est l'ensemble des villes non visitées par la fourmi k.\n",
    "\n",
    "## Complexité théorique\n",
    "\n",
    "La complexité théorique du problème de gestion de tournées de livraison dépend de plusieurs facteurs, notamment le nombre de villes (n_cities), le nombre de fourmis (n_ants), le nombre d'itérations (n_iterations) et le nombre de camions (n_trucks). En général, la complexité est considérée comme étant de l'ordre de O(n^2 * a * i * t).\n",
    "n: nombre de ville, a: nombre de fourmi, i: nombre d'itération, t: nombre de camion\n",
    "\n",
    "## Conclusion\n",
    "\n",
    "Dans ce livrable, nous avons présenté la modélisation formelle du problème de gestion de tournées de livraison en tenant compte de la contrainte des k camions. Nous avons également expliqué l'algorithme des fourmis et les différentes heuristiques utilisées pour guider le choix des prochains points à visiter. Les équations mathématiques ont été fournies pour illustrer ces concepts.\n",
    "\n",
    "Dans les prochains livrables, nous aborderons la méthode de résolution choisie, l'implémentation de l'algorithme de colonie de fourmis et l'étude expérimentale de notre solution.\n"
   ]
  }
 ],
 "metadata": {
  "interpreter": {
   "hash": "db976db827db0eae9b5d6f36130ee2a58388d42ffc430dde9b54af37dbc4c738"
  },
  "kernelspec": {
   "display_name": "Python 3.10.9 64-bit",
   "language": "python",
   "name": "python3"
  },
  "language_info": {
   "name": "python",
   "version": "3.10.9"
  },
  "orig_nbformat": 4
 },
 "nbformat": 4,
 "nbformat_minor": 2
}
