{
 "cells": [
  {
   "attachments": {},
   "cell_type": "markdown",
   "metadata": {},
   "source": [
    "# ADEME VRP\n",
    "\n",
    "Pour résoudre la problématique du projet ADEME la contrainte sélectionnée est celle des k camions, nous retrouverons le code pour notre solution ci-dessous"
   ]
  },
  {
   "cell_type": "code",
   "execution_count": 1,
   "metadata": {},
   "outputs": [],
   "source": [
    "import numpy as np\n",
    "n_cities = 300 # Number of cities\n",
    "cities = np.random.randint(1, 101, size=(n_cities, n_cities)) # Initizaliting adjcency matrix with weight from 1 to 100 and n cities"
   ]
  },
  {
   "cell_type": "code",
   "execution_count": 2,
   "metadata": {},
   "outputs": [
    {
     "name": "stdout",
     "output_type": "stream",
     "text": [
      "Truck 1: [0, 204, 267, 10, 162, 101, 183, 226, 168, 34, 141, 271, 37, 40, 260, 84, 171, 58, 251, 283, 216, 164, 127, 139, 75, 104, 175, 230, 198, 291, 71, 128, 231, 133, 297, 273, 239, 111, 100, 143, 234, 153, 188, 215, 169, 137, 90, 167, 41, 50, 238, 135, 258, 218, 255, 146, 206, 166, 233, 197, 186, 156, 222, 33, 284, 77, 152, 103, 249, 232, 14, 4, 219, 264, 138, 202, 94, 107, 119, 13, 294, 92, 73, 173, 208, 158, 235, 48, 67, 96, 70, 276, 157, 105, 159, 217, 214, 28, 240, 237, 53, 0] 187km\n",
      "Truck 2: [0, 196, 181, 201, 57, 2, 56, 241, 288, 22, 220, 131, 120, 51, 155, 250, 36, 229, 126, 136, 89, 91, 154, 182, 112, 282, 265, 253, 144, 20, 23, 102, 178, 39, 149, 129, 200, 74, 189, 16, 8, 177, 289, 35, 223, 293, 125, 24, 82, 244, 43, 285, 123, 17, 261, 142, 147, 269, 205, 180, 179, 19, 172, 247, 81, 252, 113, 30, 203, 64, 109, 151, 87, 160, 49, 194, 287, 5, 228, 274, 248, 213, 268, 114, 80, 298, 106, 295, 275, 195, 192, 124, 47, 98, 68, 278, 63, 134, 281, 62, 31, 0] 208km\n",
      "Truck 3: [0, 117, 29, 263, 161, 272, 211, 163, 15, 176, 11, 122, 277, 95, 7, 170, 257, 259, 6, 9, 199, 262, 227, 55, 60, 236, 132, 72, 165, 44, 42, 290, 221, 1, 76, 243, 78, 32, 210, 256, 209, 121, 88, 286, 108, 193, 83, 266, 27, 174, 25, 65, 3, 79, 187, 93, 118, 26, 246, 59, 148, 224, 184, 99, 299, 245, 45, 191, 54, 110, 69, 140, 254, 185, 115, 97, 296, 38, 46, 292, 12, 207, 225, 21, 116, 66, 52, 130, 280, 212, 242, 270, 85, 86, 145, 190, 18, 61, 150, 279, 0] 289km\n",
      "total distance: 684km\n"
     ]
    }
   ],
   "source": [
    "def ant_colony_optimization_vrp(cities, n_ants, n_iterations, alpha, beta, evaporation_rate, Q, n_trucks):\n",
    "    '''\n",
    "    ACO for Vehicle Routing Problem.\n",
    "    Parameters:\n",
    "        cities: 2D array of distances between cities (adjacency matrix)\n",
    "        n_ants: Number of ants running per iteration\n",
    "        n_iterations: Number of iterations\n",
    "        alpha: Importance of pheromone\n",
    "        beta: Importance of distance\n",
    "        evaporation_rate: Rate at which pheromone evaporates\n",
    "        Q: Constant for pheromone update / Amount of pheromones ants release\n",
    "        n_trucks: Number of trucks available\n",
    "    Returns:\n",
    "        best_paths: List of best paths found by the algorithm\n",
    "        best_total_length: Total length of the best paths\n",
    "\n",
    "    adapted the source code for our purpose (no coordinate/matplotlib in our version and added truck constraint)\n",
    "    source: https://induraj2020.medium.com/implementation-of-ant-colony-optimization-using-python-solve-traveling-salesman-problem-9c14d3114475\n",
    "\n",
    "    '''\n",
    "    pheromone = np.ones((n_cities, n_cities)) # Initizaliting pheromone matrix with 1s\n",
    "    best_paths = None \n",
    "    best_total_length = np.inf\n",
    "    max_cities_per_truck = n_cities // n_trucks  # Maximum cities each truck can visit\n",
    "\n",
    "    for iteration in range(n_iterations):\n",
    "        all_paths = []\n",
    "        all_total_lengths = []\n",
    "\n",
    "        for ant in range(n_ants):\n",
    "            paths = []\n",
    "            total_length = 0\n",
    "            visited_global = np.zeros(n_cities, dtype=bool)  # Global visited array for all trucks in this iteration (filled with False)\n",
    "\n",
    "            for truck in range(n_trucks):\n",
    "                visited = visited_global.copy()  # Using the global visited array for each truck\n",
    "                current_point = 0  # Start from the depot\n",
    "                # start from depot and visit max_cities_per_truck cities\n",
    "                visited[current_point] = True \n",
    "                path = [current_point]\n",
    "                path_length = 0\n",
    "                cities_visited = 0  # Count of visited cities\n",
    "\n",
    "                # Loop through not visited cities\n",
    "                while np.any(np.logical_not(visited)) and cities_visited < max_cities_per_truck :\n",
    "                    unvisited = np.where(np.logical_not(visited))[0] # getting the next unvisited cities\n",
    "                    # calculating the probabilities of the next cities\n",
    "                    probabilities = pheromone[current_point][unvisited]**alpha * (1/cities[current_point][unvisited])**beta\n",
    "                    # if all the probabilities are 0, set them to 1/len(probabilities) to avoid division by 0\n",
    "                    if np.sum(probabilities) == 0:\n",
    "                        probabilities = np.ones_like(probabilities) / len(probabilities)\n",
    "                    else:\n",
    "                        probabilities /= np.sum(probabilities) # normalizing the probabilities\n",
    "\n",
    "                    next_point = np.random.choice(unvisited, p=probabilities) # choosing the next city based on the probabilities\n",
    "                    path.append(next_point)\n",
    "                    path_length += cities[current_point][next_point]\n",
    "                    visited[next_point] = True\n",
    "                    visited_global[next_point] = True  # Mark city as visited in the global array\n",
    "                    current_point = next_point\n",
    "                    cities_visited += 1  # Increase the count of visited cities\n",
    "\n",
    "                path_length += cities[path[-1]][0] # adding the distance from the last city to the depot\n",
    "                path.append(0) # adding the depot to the path to complete the cycle\n",
    "                paths.append(path)\n",
    "                total_length += path_length\n",
    "\n",
    "            all_paths.append(paths)\n",
    "            all_total_lengths.append(total_length)\n",
    "\n",
    "            if total_length < best_total_length:\n",
    "                best_paths = paths\n",
    "                best_total_length = total_length\n",
    "\n",
    "        pheromone *= evaporation_rate # Evaporate pheromone\n",
    "\n",
    "        for paths, total_length in zip(all_paths, all_total_lengths):\n",
    "            for path in paths:\n",
    "                pheromone[path[:-1], path[1:]] += Q / total_length # Update pheromone\n",
    "                pheromone[path[-1], path[0]] += Q / total_length # Update pheromone\n",
    "\n",
    "    return best_paths, best_total_length # Return the best paths and the total length of the best paths\n",
    "# adjust the parameters to get the best result (add ants/iterations for precision (but slower) and increase alpha/beta for exploration)\n",
    "best_paths, best_total_length = ant_colony_optimization_vrp(cities, n_ants=10, n_iterations=40, alpha=2, beta=2, evaporation_rate=0.4, Q=70, n_trucks=3)\n",
    "# showing the best path and distance for each truck\n",
    "total_dist = 0\n",
    "for i, path in enumerate(best_paths): # Loop through the best paths\n",
    "    path_distance = 0\n",
    "    for j in range(len(path) - 1):\n",
    "        distance = cities[path[j]][path[j+1]]\n",
    "        path_distance += distance\n",
    "        total_dist+= distance\n",
    "    print(f\"Truck {i+1}: {path} {path_distance}km\")\n",
    "print(f\"total distance: {total_dist}km\")\n"
   ]
  }
 ],
 "metadata": {
  "interpreter": {
   "hash": "db976db827db0eae9b5d6f36130ee2a58388d42ffc430dde9b54af37dbc4c738"
  },
  "kernelspec": {
   "display_name": "Python 3.10.9 64-bit",
   "language": "python",
   "name": "python3"
  },
  "language_info": {
   "codemirror_mode": {
    "name": "ipython",
    "version": 3
   },
   "file_extension": ".py",
   "mimetype": "text/x-python",
   "name": "python",
   "nbconvert_exporter": "python",
   "pygments_lexer": "ipython3",
   "version": "3.11.3"
  },
  "orig_nbformat": 4
 },
 "nbformat": 4,
 "nbformat_minor": 2
}
